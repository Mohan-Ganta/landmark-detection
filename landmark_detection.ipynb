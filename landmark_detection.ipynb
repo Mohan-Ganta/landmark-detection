{
  "nbformat": 4,
  "nbformat_minor": 0,
  "metadata": {
    "colab": {
      "name": "landmark-detection.ipynb",
      "provenance": [],
      "collapsed_sections": []
    },
    "kernelspec": {
      "name": "python3",
      "display_name": "Python 3"
    },
    "language_info": {
      "name": "python"
    }
  },
  "cells": [
    {
      "cell_type": "code",
      "execution_count": null,
      "metadata": {
        "id": "l5JmCyBmAdiX"
      },
      "outputs": [],
      "source": [
        "!pip install -q gradio"
      ]
    },
    {
      "cell_type": "code",
      "source": [
        "import numpy as np\n",
        "import pandas as pd\n",
        "import matplotlib.pylab as plt\n",
        "import gradio as gr\n",
        "import PIL.Image as Image\n",
        "import tensorflow as tf\n",
        "import tensorflow_hub as hub"
      ],
      "metadata": {
        "id": "5Rb3w6zJBBtR"
      },
      "execution_count": null,
      "outputs": []
    },
    {
      "cell_type": "markdown",
      "source": [
        "**Load the model**"
      ],
      "metadata": {
        "id": "1zZv1F57BIZc"
      }
    },
    {
      "cell_type": "code",
      "source": [
        "TF_MODEL_URL = 'https://tfhub.dev/google/on_device_vision/classifier/landmarks_classifier_asia_V1/1'\n",
        "LABEL_MAP_URL = 'https://www.gstatic.com/aihub/tfhub/labelmaps/landmarks_classifier_asia_V1_label_map.csv'\n",
        "IMAGE_SHAPE = (321, 321)"
      ],
      "metadata": {
        "id": "65J1D6IlBFM9"
      },
      "execution_count": null,
      "outputs": []
    },
    {
      "cell_type": "code",
      "source": [
        "classifier = tf.keras.Sequential([hub.KerasLayer(TF_MODEL_URL,\n",
        "                                                 input_shape=IMAGE_SHAPE+(3,),\n",
        "                                                 output_key=\"predictions:logits\")])"
      ],
      "metadata": {
        "id": "A9FR6Wz3BLe6"
      },
      "execution_count": null,
      "outputs": []
    },
    {
      "cell_type": "code",
      "source": [
        "df = pd.read_csv(LABEL_MAP_URL)"
      ],
      "metadata": {
        "id": "6hx23VLxBWPs"
      },
      "execution_count": null,
      "outputs": []
    },
    {
      "cell_type": "code",
      "source": [
        "label_map = dict(zip(df.id, df.name))"
      ],
      "metadata": {
        "id": "7dEJ0lqLBZ5s"
      },
      "execution_count": null,
      "outputs": []
    },
    {
      "cell_type": "code",
      "source": [
        "img_loc = \"Image.jpeg\""
      ],
      "metadata": {
        "id": "0jNOaTuvBdcb"
      },
      "execution_count": null,
      "outputs": []
    },
    {
      "cell_type": "code",
      "source": [
        "img = Image.open(img_loc).resize(IMAGE_SHAPE)"
      ],
      "metadata": {
        "id": "NhtLpL4UBhYB"
      },
      "execution_count": null,
      "outputs": []
    },
    {
      "cell_type": "code",
      "source": [
        "img"
      ],
      "metadata": {
        "id": "Qj-CJZMfDNk3"
      },
      "execution_count": null,
      "outputs": []
    },
    {
      "cell_type": "code",
      "source": [
        "img = np.array(img)/255.0\n",
        "img.shape"
      ],
      "metadata": {
        "id": "r7gSxLUMDYZL"
      },
      "execution_count": null,
      "outputs": []
    },
    {
      "cell_type": "code",
      "source": [
        "img = img[np.newaxis, ...]"
      ],
      "metadata": {
        "id": "qlGgAUYkDmnV"
      },
      "execution_count": null,
      "outputs": []
    },
    {
      "cell_type": "code",
      "source": [
        "img.shape"
      ],
      "metadata": {
        "id": "kl2IS3tnDpb3"
      },
      "execution_count": null,
      "outputs": []
    },
    {
      "cell_type": "code",
      "source": [
        "result = classifier.predict(img)"
      ],
      "metadata": {
        "id": "wsk94H1KDwPC"
      },
      "execution_count": null,
      "outputs": []
    },
    {
      "cell_type": "code",
      "source": [
        "result"
      ],
      "metadata": {
        "id": "EfaYDlV0Dy1J"
      },
      "execution_count": null,
      "outputs": []
    },
    {
      "cell_type": "code",
      "source": [
        "label_map[np.argmax(result)]"
      ],
      "metadata": {
        "id": "8bdyDSxfD481"
      },
      "execution_count": null,
      "outputs": []
    },
    {
      "cell_type": "markdown",
      "source": [
        "**Define prediction Function**"
      ],
      "metadata": {
        "id": "AEtRDSSFED8c"
      }
    },
    {
      "cell_type": "code",
      "source": [
        "class_names=list(label_map.values())"
      ],
      "metadata": {
        "id": "Sn19B96jEE8v"
      },
      "execution_count": null,
      "outputs": []
    },
    {
      "cell_type": "code",
      "source": [
        "def classify_image(image):\n",
        "    img = np.array(image)/255.0\n",
        "    img = img[np.newaxis, ...]\n",
        "    prediction = classifier.predict(img)\n",
        "    return label_map[np.argmax(prediction)]"
      ],
      "metadata": {
        "id": "KLbwq83eEm9n"
      },
      "execution_count": null,
      "outputs": []
    },
    {
      "cell_type": "markdown",
      "source": [
        "**Build a shareable UI in 3 lines of code!**"
      ],
      "metadata": {
        "id": "fswGTJ5ZEtlQ"
      }
    },
    {
      "cell_type": "code",
      "source": [
        "image = gr.inputs.Image(shape=(321, 321))\n",
        "label = gr.outputs.Label(num_top_classes=1)\n",
        "\n",
        "gr.Interface(\n",
        "    classify_image, \n",
        "    image, \n",
        "    label,\n",
        "    capture_session=True).launch(debug=True);"
      ],
      "metadata": {
        "id": "zXRooctNEue2"
      },
      "execution_count": null,
      "outputs": []
    }
  ]
}